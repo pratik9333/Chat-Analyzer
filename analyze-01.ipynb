{
 "cells": [
  {
   "cell_type": "code",
   "execution_count": null,
   "metadata": {},
   "outputs": [],
   "source": [
    "import pandas as pd"
   ]
  },
  {
   "cell_type": "code",
   "execution_count": null,
   "metadata": {},
   "outputs": [],
   "source": [
    "# reading the exported chat and storing it in a csv file\n",
    "\n",
    "chatMessages = []\n",
    "\n",
    "with open('files/exported_01.txt') as cf:\n",
    "\n",
    "    for line in cf:\n",
    "        try:\n",
    "            dateTime,nameMsg = line.strip().split('-')\n",
    "            chatDate,chatTime = dateTime.split(',')\n",
    "            senderName,senderMessage  = nameMsg.split(':',maxsplit=1)\n",
    "           \n",
    "            chat = {\n",
    "                'date': chatDate.strip(),\n",
    "                'time': chatTime.strip(),\n",
    "                'senderName': senderName.strip(),\n",
    "                'message': senderMessage.strip()\n",
    "            }\n",
    "\n",
    "            chatMessages.append(chat)\n",
    "        except:\n",
    "            pass \n",
    "\n",
    "\n",
    "df = pd.DataFrame(chatMessages)\n",
    "df.to_csv('files/exported_chat_01.csv',index=False)"
   ]
  },
  {
   "cell_type": "code",
   "execution_count": null,
   "metadata": {},
   "outputs": [],
   "source": [
    "# loading the csv file \n",
    "df = pd.read_csv('files/exported_chat_01.csv')\n",
    "df.head()"
   ]
  },
  {
   "cell_type": "code",
   "execution_count": null,
   "metadata": {},
   "outputs": [],
   "source": [
    "# convert a column to datatime\n",
    "df.date = pd.to_datetime(df['date'])"
   ]
  },
  {
   "cell_type": "code",
   "execution_count": null,
   "metadata": {},
   "outputs": [],
   "source": [
    "# number of unique days\n",
    "print(\"Active Unique days: \",len(pd.unique(df.date)))"
   ]
  },
  {
   "cell_type": "code",
   "execution_count": null,
   "metadata": {},
   "outputs": [],
   "source": [
    "# first 50 messages\n",
    "df.head(n=50)"
   ]
  },
  {
   "cell_type": "code",
   "execution_count": null,
   "metadata": {},
   "outputs": [],
   "source": [
    "# message count per sender\n",
    "messages_count = pd.DataFrame(df[\"senderName\"].value_counts())"
   ]
  },
  {
   "cell_type": "code",
   "execution_count": null,
   "metadata": {},
   "outputs": [],
   "source": []
  },
  {
   "cell_type": "code",
   "execution_count": null,
   "metadata": {},
   "outputs": [],
   "source": []
  }
 ],
 "metadata": {
  "kernelspec": {
   "display_name": "Python 3.9.13 ('ml-chat': venv)",
   "language": "python",
   "name": "python3"
  },
  "language_info": {
   "codemirror_mode": {
    "name": "ipython",
    "version": 3
   },
   "file_extension": ".py",
   "mimetype": "text/x-python",
   "name": "python",
   "nbconvert_exporter": "python",
   "pygments_lexer": "ipython3",
   "version": "3.9.13"
  },
  "orig_nbformat": 4,
  "vscode": {
   "interpreter": {
    "hash": "b68ec131b1b640a966f2312c28ddea5fad0072a42552281bc497b6e078111070"
   }
  }
 },
 "nbformat": 4,
 "nbformat_minor": 2
}
